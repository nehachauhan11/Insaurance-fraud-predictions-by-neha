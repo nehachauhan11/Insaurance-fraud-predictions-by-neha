{
 "cells": [
  {
   "cell_type": "code",
   "execution_count": 1,
   "id": "aeea8576-b173-4af0-b750-ce45379345fc",
   "metadata": {},
   "outputs": [],
   "source": [
    "import numpy as np\n",
    "import pandas as pd\n",
    "import seaborn as sns\n",
    "import matplotlib.pyplot as plt\n",
    "import warnings\n",
    "warnings.filterwarnings(action='ignore')"
   ]
  },
  {
   "cell_type": "code",
   "execution_count": 2,
   "id": "64a75a42-d6fe-486e-93f8-91d5b6dba62d",
   "metadata": {},
   "outputs": [],
   "source": [
    "df = pd.read_csv('fraud_insurance_claims.csv')"
   ]
  },
  {
   "cell_type": "code",
   "execution_count": 3,
   "id": "9f311283-bf81-425e-a034-ffae4e3b07f5",
   "metadata": {},
   "outputs": [
    {
     "data": {
      "text/html": [
       "<div>\n",
       "<style scoped>\n",
       "    .dataframe tbody tr th:only-of-type {\n",
       "        vertical-align: middle;\n",
       "    }\n",
       "\n",
       "    .dataframe tbody tr th {\n",
       "        vertical-align: top;\n",
       "    }\n",
       "\n",
       "    .dataframe thead th {\n",
       "        text-align: right;\n",
       "    }\n",
       "</style>\n",
       "<table border=\"1\" class=\"dataframe\">\n",
       "  <thead>\n",
       "    <tr style=\"text-align: right;\">\n",
       "      <th></th>\n",
       "      <th>months_as_customer</th>\n",
       "      <th>age</th>\n",
       "      <th>policy_number</th>\n",
       "      <th>policy_bind_date</th>\n",
       "      <th>policy_state</th>\n",
       "      <th>policy_csl</th>\n",
       "      <th>policy_deductable</th>\n",
       "      <th>policy_annual_premium</th>\n",
       "      <th>umbrella_limit</th>\n",
       "      <th>insured_zip</th>\n",
       "      <th>...</th>\n",
       "      <th>witnesses</th>\n",
       "      <th>police_report_available</th>\n",
       "      <th>total_claim_amount</th>\n",
       "      <th>injury_claim</th>\n",
       "      <th>property_claim</th>\n",
       "      <th>vehicle_claim</th>\n",
       "      <th>auto_make</th>\n",
       "      <th>auto_model</th>\n",
       "      <th>auto_year</th>\n",
       "      <th>fraud_reported</th>\n",
       "    </tr>\n",
       "  </thead>\n",
       "  <tbody>\n",
       "    <tr>\n",
       "      <th>0</th>\n",
       "      <td>328</td>\n",
       "      <td>48</td>\n",
       "      <td>521585</td>\n",
       "      <td>2014-10-17 00:00:00</td>\n",
       "      <td>OH</td>\n",
       "      <td>250/500</td>\n",
       "      <td>1000</td>\n",
       "      <td>1406.91</td>\n",
       "      <td>0</td>\n",
       "      <td>466132</td>\n",
       "      <td>...</td>\n",
       "      <td>2</td>\n",
       "      <td>YES</td>\n",
       "      <td>71610</td>\n",
       "      <td>6510</td>\n",
       "      <td>13020</td>\n",
       "      <td>52080</td>\n",
       "      <td>Saab</td>\n",
       "      <td>92x</td>\n",
       "      <td>2004</td>\n",
       "      <td>Y</td>\n",
       "    </tr>\n",
       "    <tr>\n",
       "      <th>1</th>\n",
       "      <td>228</td>\n",
       "      <td>42</td>\n",
       "      <td>342868</td>\n",
       "      <td>2006-06-27 00:00:00</td>\n",
       "      <td>IN</td>\n",
       "      <td>250/500</td>\n",
       "      <td>2000</td>\n",
       "      <td>1197.22</td>\n",
       "      <td>5000000</td>\n",
       "      <td>468176</td>\n",
       "      <td>...</td>\n",
       "      <td>0</td>\n",
       "      <td>?</td>\n",
       "      <td>5070</td>\n",
       "      <td>780</td>\n",
       "      <td>780</td>\n",
       "      <td>3510</td>\n",
       "      <td>Mercedes</td>\n",
       "      <td>E400</td>\n",
       "      <td>2007</td>\n",
       "      <td>Y</td>\n",
       "    </tr>\n",
       "    <tr>\n",
       "      <th>2</th>\n",
       "      <td>134</td>\n",
       "      <td>29</td>\n",
       "      <td>687698</td>\n",
       "      <td>2000-09-06 00:00:00</td>\n",
       "      <td>OH</td>\n",
       "      <td>100/300</td>\n",
       "      <td>2000</td>\n",
       "      <td>1413.14</td>\n",
       "      <td>5000000</td>\n",
       "      <td>430632</td>\n",
       "      <td>...</td>\n",
       "      <td>3</td>\n",
       "      <td>NO</td>\n",
       "      <td>34650</td>\n",
       "      <td>7700</td>\n",
       "      <td>3850</td>\n",
       "      <td>23100</td>\n",
       "      <td>Dodge</td>\n",
       "      <td>RAM</td>\n",
       "      <td>2007</td>\n",
       "      <td>N</td>\n",
       "    </tr>\n",
       "    <tr>\n",
       "      <th>3</th>\n",
       "      <td>256</td>\n",
       "      <td>41</td>\n",
       "      <td>227811</td>\n",
       "      <td>1990-05-25 00:00:00</td>\n",
       "      <td>IL</td>\n",
       "      <td>250/500</td>\n",
       "      <td>2000</td>\n",
       "      <td>1415.74</td>\n",
       "      <td>6000000</td>\n",
       "      <td>608117</td>\n",
       "      <td>...</td>\n",
       "      <td>2</td>\n",
       "      <td>NO</td>\n",
       "      <td>63400</td>\n",
       "      <td>6340</td>\n",
       "      <td>6340</td>\n",
       "      <td>50720</td>\n",
       "      <td>Chevrolet</td>\n",
       "      <td>Tahoe</td>\n",
       "      <td>2014</td>\n",
       "      <td>Y</td>\n",
       "    </tr>\n",
       "    <tr>\n",
       "      <th>4</th>\n",
       "      <td>228</td>\n",
       "      <td>44</td>\n",
       "      <td>367455</td>\n",
       "      <td>2014-06-06 00:00:00</td>\n",
       "      <td>IL</td>\n",
       "      <td>500/1000</td>\n",
       "      <td>1000</td>\n",
       "      <td>1583.91</td>\n",
       "      <td>6000000</td>\n",
       "      <td>610706</td>\n",
       "      <td>...</td>\n",
       "      <td>1</td>\n",
       "      <td>NO</td>\n",
       "      <td>6500</td>\n",
       "      <td>1300</td>\n",
       "      <td>650</td>\n",
       "      <td>4550</td>\n",
       "      <td>Accura</td>\n",
       "      <td>RSX</td>\n",
       "      <td>2009</td>\n",
       "      <td>N</td>\n",
       "    </tr>\n",
       "  </tbody>\n",
       "</table>\n",
       "<p>5 rows × 39 columns</p>\n",
       "</div>"
      ],
      "text/plain": [
       "   months_as_customer  age  policy_number     policy_bind_date policy_state  \\\n",
       "0                 328   48         521585  2014-10-17 00:00:00           OH   \n",
       "1                 228   42         342868  2006-06-27 00:00:00           IN   \n",
       "2                 134   29         687698  2000-09-06 00:00:00           OH   \n",
       "3                 256   41         227811  1990-05-25 00:00:00           IL   \n",
       "4                 228   44         367455  2014-06-06 00:00:00           IL   \n",
       "\n",
       "  policy_csl  policy_deductable  policy_annual_premium  umbrella_limit  \\\n",
       "0    250/500               1000                1406.91               0   \n",
       "1    250/500               2000                1197.22         5000000   \n",
       "2    100/300               2000                1413.14         5000000   \n",
       "3    250/500               2000                1415.74         6000000   \n",
       "4   500/1000               1000                1583.91         6000000   \n",
       "\n",
       "   insured_zip  ... witnesses police_report_available total_claim_amount  \\\n",
       "0       466132  ...         2                     YES              71610   \n",
       "1       468176  ...         0                       ?               5070   \n",
       "2       430632  ...         3                      NO              34650   \n",
       "3       608117  ...         2                      NO              63400   \n",
       "4       610706  ...         1                      NO               6500   \n",
       "\n",
       "  injury_claim property_claim  vehicle_claim  auto_make auto_model auto_year  \\\n",
       "0         6510          13020          52080       Saab        92x      2004   \n",
       "1          780            780           3510   Mercedes       E400      2007   \n",
       "2         7700           3850          23100      Dodge        RAM      2007   \n",
       "3         6340           6340          50720  Chevrolet      Tahoe      2014   \n",
       "4         1300            650           4550     Accura        RSX      2009   \n",
       "\n",
       "  fraud_reported  \n",
       "0              Y  \n",
       "1              Y  \n",
       "2              N  \n",
       "3              Y  \n",
       "4              N  \n",
       "\n",
       "[5 rows x 39 columns]"
      ]
     },
     "execution_count": 3,
     "metadata": {},
     "output_type": "execute_result"
    }
   ],
   "source": [
    "df.head()"
   ]
  },
  {
   "cell_type": "code",
   "execution_count": 4,
   "id": "4a729fa2-f0b5-42e7-bd3e-1c85aa081b9c",
   "metadata": {
    "tags": []
   },
   "outputs": [
    {
     "name": "stdout",
     "output_type": "stream",
     "text": [
      "<class 'pandas.core.frame.DataFrame'>\n",
      "RangeIndex: 1000 entries, 0 to 999\n",
      "Data columns (total 39 columns):\n",
      " #   Column                       Non-Null Count  Dtype  \n",
      "---  ------                       --------------  -----  \n",
      " 0   months_as_customer           1000 non-null   int64  \n",
      " 1   age                          1000 non-null   int64  \n",
      " 2   policy_number                1000 non-null   int64  \n",
      " 3   policy_bind_date             1000 non-null   object \n",
      " 4   policy_state                 1000 non-null   object \n",
      " 5   policy_csl                   1000 non-null   object \n",
      " 6   policy_deductable            1000 non-null   int64  \n",
      " 7   policy_annual_premium        1000 non-null   float64\n",
      " 8   umbrella_limit               1000 non-null   int64  \n",
      " 9   insured_zip                  1000 non-null   int64  \n",
      " 10  insured_sex                  1000 non-null   object \n",
      " 11  insured_education_level      1000 non-null   object \n",
      " 12  insured_occupation           1000 non-null   object \n",
      " 13  insured_hobbies              1000 non-null   object \n",
      " 14  insured_relationship         1000 non-null   object \n",
      " 15  capital-gains                1000 non-null   int64  \n",
      " 16  capital-loss                 1000 non-null   int64  \n",
      " 17  incident_date                1000 non-null   object \n",
      " 18  incident_type                1000 non-null   object \n",
      " 19  collision_type               1000 non-null   object \n",
      " 20  incident_severity            1000 non-null   object \n",
      " 21  authorities_contacted        1000 non-null   object \n",
      " 22  incident_state               1000 non-null   object \n",
      " 23  incident_city                1000 non-null   object \n",
      " 24  incident_location            1000 non-null   object \n",
      " 25  incident_hour_of_the_day     1000 non-null   int64  \n",
      " 26  number_of_vehicles_involved  1000 non-null   int64  \n",
      " 27  property_damage              1000 non-null   object \n",
      " 28  bodily_injuries              1000 non-null   int64  \n",
      " 29  witnesses                    1000 non-null   int64  \n",
      " 30  police_report_available      1000 non-null   object \n",
      " 31  total_claim_amount           1000 non-null   int64  \n",
      " 32  injury_claim                 1000 non-null   int64  \n",
      " 33  property_claim               1000 non-null   int64  \n",
      " 34  vehicle_claim                1000 non-null   int64  \n",
      " 35  auto_make                    1000 non-null   object \n",
      " 36  auto_model                   1000 non-null   object \n",
      " 37  auto_year                    1000 non-null   int64  \n",
      " 38  fraud_reported               1000 non-null   object \n",
      "dtypes: float64(1), int64(17), object(21)\n",
      "memory usage: 304.8+ KB\n"
     ]
    }
   ],
   "source": [
    "df.info()"
   ]
  },
  {
   "cell_type": "code",
   "execution_count": 5,
   "id": "0ad7e922-c8f6-4cf9-b887-6b7af428862c",
   "metadata": {},
   "outputs": [
    {
     "data": {
      "text/html": [
       "<div>\n",
       "<style scoped>\n",
       "    .dataframe tbody tr th:only-of-type {\n",
       "        vertical-align: middle;\n",
       "    }\n",
       "\n",
       "    .dataframe tbody tr th {\n",
       "        vertical-align: top;\n",
       "    }\n",
       "\n",
       "    .dataframe thead th {\n",
       "        text-align: right;\n",
       "    }\n",
       "</style>\n",
       "<table border=\"1\" class=\"dataframe\">\n",
       "  <thead>\n",
       "    <tr style=\"text-align: right;\">\n",
       "      <th></th>\n",
       "      <th>months_as_customer</th>\n",
       "      <th>age</th>\n",
       "      <th>policy_number</th>\n",
       "      <th>policy_deductable</th>\n",
       "      <th>policy_annual_premium</th>\n",
       "      <th>umbrella_limit</th>\n",
       "      <th>insured_zip</th>\n",
       "      <th>capital-gains</th>\n",
       "      <th>capital-loss</th>\n",
       "      <th>incident_hour_of_the_day</th>\n",
       "      <th>number_of_vehicles_involved</th>\n",
       "      <th>bodily_injuries</th>\n",
       "      <th>witnesses</th>\n",
       "      <th>total_claim_amount</th>\n",
       "      <th>injury_claim</th>\n",
       "      <th>property_claim</th>\n",
       "      <th>vehicle_claim</th>\n",
       "      <th>auto_year</th>\n",
       "    </tr>\n",
       "  </thead>\n",
       "  <tbody>\n",
       "    <tr>\n",
       "      <th>count</th>\n",
       "      <td>1000.000000</td>\n",
       "      <td>1000.000000</td>\n",
       "      <td>1000.000000</td>\n",
       "      <td>1000.000000</td>\n",
       "      <td>1000.000000</td>\n",
       "      <td>1.000000e+03</td>\n",
       "      <td>1000.000000</td>\n",
       "      <td>1000.000000</td>\n",
       "      <td>1000.000000</td>\n",
       "      <td>1000.000000</td>\n",
       "      <td>1000.00000</td>\n",
       "      <td>1000.000000</td>\n",
       "      <td>1000.000000</td>\n",
       "      <td>1000.00000</td>\n",
       "      <td>1000.000000</td>\n",
       "      <td>1000.000000</td>\n",
       "      <td>1000.000000</td>\n",
       "      <td>1000.000000</td>\n",
       "    </tr>\n",
       "    <tr>\n",
       "      <th>mean</th>\n",
       "      <td>203.954000</td>\n",
       "      <td>38.948000</td>\n",
       "      <td>546238.648000</td>\n",
       "      <td>1136.000000</td>\n",
       "      <td>1256.406150</td>\n",
       "      <td>1.101000e+06</td>\n",
       "      <td>501214.488000</td>\n",
       "      <td>25126.100000</td>\n",
       "      <td>-26793.700000</td>\n",
       "      <td>11.644000</td>\n",
       "      <td>1.83900</td>\n",
       "      <td>0.992000</td>\n",
       "      <td>1.487000</td>\n",
       "      <td>52761.94000</td>\n",
       "      <td>7433.420000</td>\n",
       "      <td>7399.570000</td>\n",
       "      <td>37928.950000</td>\n",
       "      <td>2005.103000</td>\n",
       "    </tr>\n",
       "    <tr>\n",
       "      <th>std</th>\n",
       "      <td>115.113174</td>\n",
       "      <td>9.140287</td>\n",
       "      <td>257063.005276</td>\n",
       "      <td>611.864673</td>\n",
       "      <td>244.167395</td>\n",
       "      <td>2.297407e+06</td>\n",
       "      <td>71701.610941</td>\n",
       "      <td>27872.187708</td>\n",
       "      <td>28104.096686</td>\n",
       "      <td>6.951373</td>\n",
       "      <td>1.01888</td>\n",
       "      <td>0.820127</td>\n",
       "      <td>1.111335</td>\n",
       "      <td>26401.53319</td>\n",
       "      <td>4880.951853</td>\n",
       "      <td>4824.726179</td>\n",
       "      <td>18886.252893</td>\n",
       "      <td>6.015861</td>\n",
       "    </tr>\n",
       "    <tr>\n",
       "      <th>min</th>\n",
       "      <td>0.000000</td>\n",
       "      <td>19.000000</td>\n",
       "      <td>100804.000000</td>\n",
       "      <td>500.000000</td>\n",
       "      <td>433.330000</td>\n",
       "      <td>-1.000000e+06</td>\n",
       "      <td>430104.000000</td>\n",
       "      <td>0.000000</td>\n",
       "      <td>-111100.000000</td>\n",
       "      <td>0.000000</td>\n",
       "      <td>1.00000</td>\n",
       "      <td>0.000000</td>\n",
       "      <td>0.000000</td>\n",
       "      <td>100.00000</td>\n",
       "      <td>0.000000</td>\n",
       "      <td>0.000000</td>\n",
       "      <td>70.000000</td>\n",
       "      <td>1995.000000</td>\n",
       "    </tr>\n",
       "    <tr>\n",
       "      <th>25%</th>\n",
       "      <td>115.750000</td>\n",
       "      <td>32.000000</td>\n",
       "      <td>335980.250000</td>\n",
       "      <td>500.000000</td>\n",
       "      <td>1089.607500</td>\n",
       "      <td>0.000000e+00</td>\n",
       "      <td>448404.500000</td>\n",
       "      <td>0.000000</td>\n",
       "      <td>-51500.000000</td>\n",
       "      <td>6.000000</td>\n",
       "      <td>1.00000</td>\n",
       "      <td>0.000000</td>\n",
       "      <td>1.000000</td>\n",
       "      <td>41812.50000</td>\n",
       "      <td>4295.000000</td>\n",
       "      <td>4445.000000</td>\n",
       "      <td>30292.500000</td>\n",
       "      <td>2000.000000</td>\n",
       "    </tr>\n",
       "    <tr>\n",
       "      <th>50%</th>\n",
       "      <td>199.500000</td>\n",
       "      <td>38.000000</td>\n",
       "      <td>533135.000000</td>\n",
       "      <td>1000.000000</td>\n",
       "      <td>1257.200000</td>\n",
       "      <td>0.000000e+00</td>\n",
       "      <td>466445.500000</td>\n",
       "      <td>0.000000</td>\n",
       "      <td>-23250.000000</td>\n",
       "      <td>12.000000</td>\n",
       "      <td>1.00000</td>\n",
       "      <td>1.000000</td>\n",
       "      <td>1.000000</td>\n",
       "      <td>58055.00000</td>\n",
       "      <td>6775.000000</td>\n",
       "      <td>6750.000000</td>\n",
       "      <td>42100.000000</td>\n",
       "      <td>2005.000000</td>\n",
       "    </tr>\n",
       "    <tr>\n",
       "      <th>75%</th>\n",
       "      <td>276.250000</td>\n",
       "      <td>44.000000</td>\n",
       "      <td>759099.750000</td>\n",
       "      <td>2000.000000</td>\n",
       "      <td>1415.695000</td>\n",
       "      <td>0.000000e+00</td>\n",
       "      <td>603251.000000</td>\n",
       "      <td>51025.000000</td>\n",
       "      <td>0.000000</td>\n",
       "      <td>17.000000</td>\n",
       "      <td>3.00000</td>\n",
       "      <td>2.000000</td>\n",
       "      <td>2.000000</td>\n",
       "      <td>70592.50000</td>\n",
       "      <td>11305.000000</td>\n",
       "      <td>10885.000000</td>\n",
       "      <td>50822.500000</td>\n",
       "      <td>2010.000000</td>\n",
       "    </tr>\n",
       "    <tr>\n",
       "      <th>max</th>\n",
       "      <td>479.000000</td>\n",
       "      <td>64.000000</td>\n",
       "      <td>999435.000000</td>\n",
       "      <td>2000.000000</td>\n",
       "      <td>2047.590000</td>\n",
       "      <td>1.000000e+07</td>\n",
       "      <td>620962.000000</td>\n",
       "      <td>100500.000000</td>\n",
       "      <td>0.000000</td>\n",
       "      <td>23.000000</td>\n",
       "      <td>4.00000</td>\n",
       "      <td>2.000000</td>\n",
       "      <td>3.000000</td>\n",
       "      <td>114920.00000</td>\n",
       "      <td>21450.000000</td>\n",
       "      <td>23670.000000</td>\n",
       "      <td>79560.000000</td>\n",
       "      <td>2015.000000</td>\n",
       "    </tr>\n",
       "  </tbody>\n",
       "</table>\n",
       "</div>"
      ],
      "text/plain": [
       "       months_as_customer          age  policy_number  policy_deductable  \\\n",
       "count         1000.000000  1000.000000    1000.000000        1000.000000   \n",
       "mean           203.954000    38.948000  546238.648000        1136.000000   \n",
       "std            115.113174     9.140287  257063.005276         611.864673   \n",
       "min              0.000000    19.000000  100804.000000         500.000000   \n",
       "25%            115.750000    32.000000  335980.250000         500.000000   \n",
       "50%            199.500000    38.000000  533135.000000        1000.000000   \n",
       "75%            276.250000    44.000000  759099.750000        2000.000000   \n",
       "max            479.000000    64.000000  999435.000000        2000.000000   \n",
       "\n",
       "       policy_annual_premium  umbrella_limit    insured_zip  capital-gains  \\\n",
       "count            1000.000000    1.000000e+03    1000.000000    1000.000000   \n",
       "mean             1256.406150    1.101000e+06  501214.488000   25126.100000   \n",
       "std               244.167395    2.297407e+06   71701.610941   27872.187708   \n",
       "min               433.330000   -1.000000e+06  430104.000000       0.000000   \n",
       "25%              1089.607500    0.000000e+00  448404.500000       0.000000   \n",
       "50%              1257.200000    0.000000e+00  466445.500000       0.000000   \n",
       "75%              1415.695000    0.000000e+00  603251.000000   51025.000000   \n",
       "max              2047.590000    1.000000e+07  620962.000000  100500.000000   \n",
       "\n",
       "        capital-loss  incident_hour_of_the_day  number_of_vehicles_involved  \\\n",
       "count    1000.000000               1000.000000                   1000.00000   \n",
       "mean   -26793.700000                 11.644000                      1.83900   \n",
       "std     28104.096686                  6.951373                      1.01888   \n",
       "min   -111100.000000                  0.000000                      1.00000   \n",
       "25%    -51500.000000                  6.000000                      1.00000   \n",
       "50%    -23250.000000                 12.000000                      1.00000   \n",
       "75%         0.000000                 17.000000                      3.00000   \n",
       "max         0.000000                 23.000000                      4.00000   \n",
       "\n",
       "       bodily_injuries    witnesses  total_claim_amount  injury_claim  \\\n",
       "count      1000.000000  1000.000000          1000.00000   1000.000000   \n",
       "mean          0.992000     1.487000         52761.94000   7433.420000   \n",
       "std           0.820127     1.111335         26401.53319   4880.951853   \n",
       "min           0.000000     0.000000           100.00000      0.000000   \n",
       "25%           0.000000     1.000000         41812.50000   4295.000000   \n",
       "50%           1.000000     1.000000         58055.00000   6775.000000   \n",
       "75%           2.000000     2.000000         70592.50000  11305.000000   \n",
       "max           2.000000     3.000000        114920.00000  21450.000000   \n",
       "\n",
       "       property_claim  vehicle_claim    auto_year  \n",
       "count     1000.000000    1000.000000  1000.000000  \n",
       "mean      7399.570000   37928.950000  2005.103000  \n",
       "std       4824.726179   18886.252893     6.015861  \n",
       "min          0.000000      70.000000  1995.000000  \n",
       "25%       4445.000000   30292.500000  2000.000000  \n",
       "50%       6750.000000   42100.000000  2005.000000  \n",
       "75%      10885.000000   50822.500000  2010.000000  \n",
       "max      23670.000000   79560.000000  2015.000000  "
      ]
     },
     "execution_count": 5,
     "metadata": {},
     "output_type": "execute_result"
    }
   ],
   "source": [
    "df.describe()"
   ]
  },
  {
   "cell_type": "code",
   "execution_count": 6,
   "id": "c8be7703-8c09-4321-a123-120ca3a875e2",
   "metadata": {},
   "outputs": [
    {
     "data": {
      "text/plain": [
       "(1000, 39)"
      ]
     },
     "execution_count": 6,
     "metadata": {},
     "output_type": "execute_result"
    }
   ],
   "source": [
    "df.shape"
   ]
  },
  {
   "cell_type": "code",
   "execution_count": 7,
   "id": "961e19e0-c031-4392-bf25-145cbda5ea3c",
   "metadata": {},
   "outputs": [
    {
     "data": {
      "text/plain": [
       "39000"
      ]
     },
     "execution_count": 7,
     "metadata": {},
     "output_type": "execute_result"
    }
   ],
   "source": [
    "df.size"
   ]
  },
  {
   "cell_type": "code",
   "execution_count": 8,
   "id": "a43a8584-2654-4434-8f07-0567dba39994",
   "metadata": {
    "tags": []
   },
   "outputs": [
    {
     "data": {
      "text/plain": [
       "months_as_customer               int64\n",
       "age                              int64\n",
       "policy_number                    int64\n",
       "policy_bind_date                object\n",
       "policy_state                    object\n",
       "policy_csl                      object\n",
       "policy_deductable                int64\n",
       "policy_annual_premium          float64\n",
       "umbrella_limit                   int64\n",
       "insured_zip                      int64\n",
       "insured_sex                     object\n",
       "insured_education_level         object\n",
       "insured_occupation              object\n",
       "insured_hobbies                 object\n",
       "insured_relationship            object\n",
       "capital-gains                    int64\n",
       "capital-loss                     int64\n",
       "incident_date                   object\n",
       "incident_type                   object\n",
       "collision_type                  object\n",
       "incident_severity               object\n",
       "authorities_contacted           object\n",
       "incident_state                  object\n",
       "incident_city                   object\n",
       "incident_location               object\n",
       "incident_hour_of_the_day         int64\n",
       "number_of_vehicles_involved      int64\n",
       "property_damage                 object\n",
       "bodily_injuries                  int64\n",
       "witnesses                        int64\n",
       "police_report_available         object\n",
       "total_claim_amount               int64\n",
       "injury_claim                     int64\n",
       "property_claim                   int64\n",
       "vehicle_claim                    int64\n",
       "auto_make                       object\n",
       "auto_model                      object\n",
       "auto_year                        int64\n",
       "fraud_reported                  object\n",
       "dtype: object"
      ]
     },
     "execution_count": 8,
     "metadata": {},
     "output_type": "execute_result"
    }
   ],
   "source": [
    "df.dtypes"
   ]
  },
  {
   "cell_type": "code",
   "execution_count": 9,
   "id": "37c13735-e0da-4843-bb58-92d87d53c9fe",
   "metadata": {
    "tags": []
   },
   "outputs": [
    {
     "data": {
      "text/plain": [
       "Index(['months_as_customer', 'age', 'policy_number', 'policy_bind_date',\n",
       "       'policy_state', 'policy_csl', 'policy_deductable',\n",
       "       'policy_annual_premium', 'umbrella_limit', 'insured_zip', 'insured_sex',\n",
       "       'insured_education_level', 'insured_occupation', 'insured_hobbies',\n",
       "       'insured_relationship', 'capital-gains', 'capital-loss',\n",
       "       'incident_date', 'incident_type', 'collision_type', 'incident_severity',\n",
       "       'authorities_contacted', 'incident_state', 'incident_city',\n",
       "       'incident_location', 'incident_hour_of_the_day',\n",
       "       'number_of_vehicles_involved', 'property_damage', 'bodily_injuries',\n",
       "       'witnesses', 'police_report_available', 'total_claim_amount',\n",
       "       'injury_claim', 'property_claim', 'vehicle_claim', 'auto_make',\n",
       "       'auto_model', 'auto_year', 'fraud_reported'],\n",
       "      dtype='object')"
      ]
     },
     "execution_count": 9,
     "metadata": {},
     "output_type": "execute_result"
    }
   ],
   "source": [
    "df.columns"
   ]
  },
  {
   "cell_type": "code",
   "execution_count": 10,
   "id": "036b554b-94a1-48b2-81b0-228b7ac05832",
   "metadata": {},
   "outputs": [
    {
     "data": {
      "text/plain": [
       "1000"
      ]
     },
     "execution_count": 10,
     "metadata": {},
     "output_type": "execute_result"
    }
   ],
   "source": [
    "len(df)"
   ]
  },
  {
   "cell_type": "code",
   "execution_count": 11,
   "id": "139fb47a-4257-48c1-9414-7d0b49384f2a",
   "metadata": {
    "tags": []
   },
   "outputs": [
    {
     "data": {
      "text/plain": [
       "months_as_customer             0\n",
       "age                            0\n",
       "policy_number                  0\n",
       "policy_bind_date               0\n",
       "policy_state                   0\n",
       "policy_csl                     0\n",
       "policy_deductable              0\n",
       "policy_annual_premium          0\n",
       "umbrella_limit                 0\n",
       "insured_zip                    0\n",
       "insured_sex                    0\n",
       "insured_education_level        0\n",
       "insured_occupation             0\n",
       "insured_hobbies                0\n",
       "insured_relationship           0\n",
       "capital-gains                  0\n",
       "capital-loss                   0\n",
       "incident_date                  0\n",
       "incident_type                  0\n",
       "collision_type                 0\n",
       "incident_severity              0\n",
       "authorities_contacted          0\n",
       "incident_state                 0\n",
       "incident_city                  0\n",
       "incident_location              0\n",
       "incident_hour_of_the_day       0\n",
       "number_of_vehicles_involved    0\n",
       "property_damage                0\n",
       "bodily_injuries                0\n",
       "witnesses                      0\n",
       "police_report_available        0\n",
       "total_claim_amount             0\n",
       "injury_claim                   0\n",
       "property_claim                 0\n",
       "vehicle_claim                  0\n",
       "auto_make                      0\n",
       "auto_model                     0\n",
       "auto_year                      0\n",
       "fraud_reported                 0\n",
       "dtype: int64"
      ]
     },
     "execution_count": 11,
     "metadata": {},
     "output_type": "execute_result"
    }
   ],
   "source": [
    "df.isnull().sum()"
   ]
  },
  {
   "cell_type": "code",
   "execution_count": 12,
   "id": "3d302676-bab8-4a64-b0b3-a7fdd54fb803",
   "metadata": {
    "tags": []
   },
   "outputs": [
    {
     "data": {
      "text/plain": [
       "months_as_customer             0.0\n",
       "age                            0.0\n",
       "policy_number                  0.0\n",
       "policy_bind_date               0.0\n",
       "policy_state                   0.0\n",
       "policy_csl                     0.0\n",
       "policy_deductable              0.0\n",
       "policy_annual_premium          0.0\n",
       "umbrella_limit                 0.0\n",
       "insured_zip                    0.0\n",
       "insured_sex                    0.0\n",
       "insured_education_level        0.0\n",
       "insured_occupation             0.0\n",
       "insured_hobbies                0.0\n",
       "insured_relationship           0.0\n",
       "capital-gains                  0.0\n",
       "capital-loss                   0.0\n",
       "incident_date                  0.0\n",
       "incident_type                  0.0\n",
       "collision_type                 0.0\n",
       "incident_severity              0.0\n",
       "authorities_contacted          0.0\n",
       "incident_state                 0.0\n",
       "incident_city                  0.0\n",
       "incident_location              0.0\n",
       "incident_hour_of_the_day       0.0\n",
       "number_of_vehicles_involved    0.0\n",
       "property_damage                0.0\n",
       "bodily_injuries                0.0\n",
       "witnesses                      0.0\n",
       "police_report_available        0.0\n",
       "total_claim_amount             0.0\n",
       "injury_claim                   0.0\n",
       "property_claim                 0.0\n",
       "vehicle_claim                  0.0\n",
       "auto_make                      0.0\n",
       "auto_model                     0.0\n",
       "auto_year                      0.0\n",
       "fraud_reported                 0.0\n",
       "dtype: float64"
      ]
     },
     "execution_count": 12,
     "metadata": {},
     "output_type": "execute_result"
    }
   ],
   "source": [
    "df.isnull().sum()/len(df)*100"
   ]
  },
  {
   "cell_type": "code",
   "execution_count": 13,
   "id": "b8c969b3-f1f9-4080-9805-9d94fdd4f22e",
   "metadata": {},
   "outputs": [
    {
     "data": {
      "image/png": "[encoded data removed]",
      "text/plain": [
       "<Figure size 1080x504 with 2 Axes>"
      ]
     },
     "metadata": {
      "needs_background": "light"
     },
     "output_type": "display_data"
    }
   ],
   "source": [
    "plt.figure(figsize=(15,7))\n",
    "_=sns.heatmap(df.isnull(),cmap='viridis')"
   ]
  },
  {
   "cell_type": "code",
   "execution_count": 14,
   "id": "4c1bbb30-f98a-4773-8c02-2e68c5f01079",
   "metadata": {},
   "outputs": [],
   "source": [
    "df.drop('policy_number',axis=1,inplace=True)\n",
    "df.drop('policy_bind_date',axis=1,inplace=True)\n",
    "df.drop('policy_state',axis=1,inplace=True)\n",
    "df.drop('insured_zip',axis=1,inplace=True)\n",
    "df.drop('incident_location',axis=1,inplace=True)\n",
    "df.drop('incident_state',axis=1,inplace=True)\n",
    "df.drop('incident_city',axis=1,inplace=True)\n",
    "df.drop('incident_date',axis=1,inplace=True)\n",
    "df.drop('auto_make',axis=1,inplace=True)\n",
    "df.drop('auto_model',axis=1,inplace=True)\n",
    "df.drop('auto_year',axis=1,inplace=True)"
   ]
  },
  {
   "cell_type": "code",
   "execution_count": 15,
   "id": "5298dd8f-7b3f-4e88-bcbb-4c717c747404",
   "metadata": {},
   "outputs": [
    {
     "data": {
      "image/png": "[encoded data removed]",
      "text/plain": [
       "<Figure size 1080x504 with 2 Axes>"
      ]
     },
     "metadata": {
      "needs_background": "light"
     },
     "output_type": "display_data"
    }
   ],
   "source": [
    "plt.figure(figsize=(15,7))\n",
    "_=sns.heatmap(df.corr(),annot=True)"
   ]
  },
  {
   "cell_type": "code",
   "execution_count": 16,
   "id": "2f82cb0f-fd5f-44df-9427-584b02400937",
   "metadata": {},
   "outputs": [
    {
     "data": {
      "image/png": "[encoded data removed]",
      "text/plain": [
       "<Figure size 432x288 with 1 Axes>"
      ]
     },
     "metadata": {
      "needs_background": "light"
     },
     "output_type": "display_data"
    }
   ],
   "source": [
    "_=sns.kdeplot(x='age',data=df)"
   ]
  },
  {
   "cell_type": "code",
   "execution_count": 17,
   "id": "1f58c1ad-8eda-4e39-b261-b3a34b9d4e30",
   "metadata": {},
   "outputs": [
    {
     "data": {
      "image/png": "[encoded data removed]",
      "text/plain": [
       "<Figure size 432x288 with 1 Axes>"
      ]
     },
     "metadata": {
      "needs_background": "light"
     },
     "output_type": "display_data"
    }
   ],
   "source": [
    "_=sns.histplot(x='age',data=df)"
   ]
  },
  {
   "cell_type": "code",
   "execution_count": 18,
   "id": "71c75799-e2c2-48c1-9535-24dd6be45b66",
   "metadata": {},
   "outputs": [
    {
     "data": {
      "image/png": "[encoded data removed]",
      "text/plain": [
       "<Figure size 1080x504 with 1 Axes>"
      ]
     },
     "metadata": {
      "needs_background": "light"
     },
     "output_type": "display_data"
    }
   ],
   "source": [
    "plt.figure(figsize=(15,7))\n",
    "_=sns.distplot(df['age'])"
   ]
  },
  {
   "cell_type": "code",
   "execution_count": 19,
   "id": "0c13e6b0-2c59-4659-9307-f215db3b8ac7",
   "metadata": {},
   "outputs": [
    {
     "data": {
      "image/png": "[encoded data removed]",
      "text/plain": [
       "<Figure size 576x360 with 1 Axes>"
      ]
     },
     "metadata": {
      "needs_background": "light"
     },
     "output_type": "display_data"
    }
   ],
   "source": [
    "plt.figure(figsize = (8,5))\n",
    "_=sns.countplot(x =\"fraud_reported\", data = df, hue =\"fraud_reported\", palette =\"Pastel1\" )"
   ]
  },
  {
   "cell_type": "code",
   "execution_count": 20,
   "id": "f1c8f07f-570e-4694-b62b-18011b261145",
   "metadata": {},
   "outputs": [],
   "source": [
    "df=pd.get_dummies(df,drop_first=True)"
   ]
  },
  {
   "cell_type": "code",
   "execution_count": 21,
   "id": "27fd9ce9-16a2-4b2b-a0dc-4f15556e87c4",
   "metadata": {},
   "outputs": [
    {
     "data": {
      "text/html": [
       "<div>\n",
       "<style scoped>\n",
       "    .dataframe tbody tr th:only-of-type {\n",
       "        vertical-align: middle;\n",
       "    }\n",
       "\n",
       "    .dataframe tbody tr th {\n",
       "        vertical-align: top;\n",
       "    }\n",
       "\n",
       "    .dataframe thead th {\n",
       "        text-align: right;\n",
       "    }\n",
       "</style>\n",
       "<table border=\"1\" class=\"dataframe\">\n",
       "  <thead>\n",
       "    <tr style=\"text-align: right;\">\n",
       "      <th></th>\n",
       "      <th>months_as_customer</th>\n",
       "      <th>age</th>\n",
       "      <th>policy_deductable</th>\n",
       "      <th>policy_annual_premium</th>\n",
       "      <th>umbrella_limit</th>\n",
       "      <th>capital-gains</th>\n",
       "      <th>capital-loss</th>\n",
       "      <th>incident_hour_of_the_day</th>\n",
       "      <th>number_of_vehicles_involved</th>\n",
       "      <th>bodily_injuries</th>\n",
       "      <th>...</th>\n",
       "      <th>incident_severity_Trivial Damage</th>\n",
       "      <th>authorities_contacted_Fire</th>\n",
       "      <th>authorities_contacted_None</th>\n",
       "      <th>authorities_contacted_Other</th>\n",
       "      <th>authorities_contacted_Police</th>\n",
       "      <th>property_damage_NO</th>\n",
       "      <th>property_damage_YES</th>\n",
       "      <th>police_report_available_NO</th>\n",
       "      <th>police_report_available_YES</th>\n",
       "      <th>fraud_reported_Y</th>\n",
       "    </tr>\n",
       "  </thead>\n",
       "  <tbody>\n",
       "    <tr>\n",
       "      <th>0</th>\n",
       "      <td>328</td>\n",
       "      <td>48</td>\n",
       "      <td>1000</td>\n",
       "      <td>1406.91</td>\n",
       "      <td>0</td>\n",
       "      <td>53300</td>\n",
       "      <td>0</td>\n",
       "      <td>5</td>\n",
       "      <td>1</td>\n",
       "      <td>1</td>\n",
       "      <td>...</td>\n",
       "      <td>0</td>\n",
       "      <td>0</td>\n",
       "      <td>0</td>\n",
       "      <td>0</td>\n",
       "      <td>1</td>\n",
       "      <td>0</td>\n",
       "      <td>1</td>\n",
       "      <td>0</td>\n",
       "      <td>1</td>\n",
       "      <td>1</td>\n",
       "    </tr>\n",
       "    <tr>\n",
       "      <th>1</th>\n",
       "      <td>228</td>\n",
       "      <td>42</td>\n",
       "      <td>2000</td>\n",
       "      <td>1197.22</td>\n",
       "      <td>5000000</td>\n",
       "      <td>0</td>\n",
       "      <td>0</td>\n",
       "      <td>8</td>\n",
       "      <td>1</td>\n",
       "      <td>0</td>\n",
       "      <td>...</td>\n",
       "      <td>0</td>\n",
       "      <td>0</td>\n",
       "      <td>0</td>\n",
       "      <td>0</td>\n",
       "      <td>1</td>\n",
       "      <td>0</td>\n",
       "      <td>0</td>\n",
       "      <td>0</td>\n",
       "      <td>0</td>\n",
       "      <td>1</td>\n",
       "    </tr>\n",
       "    <tr>\n",
       "      <th>2</th>\n",
       "      <td>134</td>\n",
       "      <td>29</td>\n",
       "      <td>2000</td>\n",
       "      <td>1413.14</td>\n",
       "      <td>5000000</td>\n",
       "      <td>35100</td>\n",
       "      <td>0</td>\n",
       "      <td>7</td>\n",
       "      <td>3</td>\n",
       "      <td>2</td>\n",
       "      <td>...</td>\n",
       "      <td>0</td>\n",
       "      <td>0</td>\n",
       "      <td>0</td>\n",
       "      <td>0</td>\n",
       "      <td>1</td>\n",
       "      <td>1</td>\n",
       "      <td>0</td>\n",
       "      <td>1</td>\n",
       "      <td>0</td>\n",
       "      <td>0</td>\n",
       "    </tr>\n",
       "    <tr>\n",
       "      <th>3</th>\n",
       "      <td>256</td>\n",
       "      <td>41</td>\n",
       "      <td>2000</td>\n",
       "      <td>1415.74</td>\n",
       "      <td>6000000</td>\n",
       "      <td>48900</td>\n",
       "      <td>-62400</td>\n",
       "      <td>5</td>\n",
       "      <td>1</td>\n",
       "      <td>1</td>\n",
       "      <td>...</td>\n",
       "      <td>0</td>\n",
       "      <td>0</td>\n",
       "      <td>0</td>\n",
       "      <td>0</td>\n",
       "      <td>1</td>\n",
       "      <td>0</td>\n",
       "      <td>0</td>\n",
       "      <td>1</td>\n",
       "      <td>0</td>\n",
       "      <td>1</td>\n",
       "    </tr>\n",
       "    <tr>\n",
       "      <th>4</th>\n",
       "      <td>228</td>\n",
       "      <td>44</td>\n",
       "      <td>1000</td>\n",
       "      <td>1583.91</td>\n",
       "      <td>6000000</td>\n",
       "      <td>66000</td>\n",
       "      <td>-46000</td>\n",
       "      <td>20</td>\n",
       "      <td>1</td>\n",
       "      <td>0</td>\n",
       "      <td>...</td>\n",
       "      <td>0</td>\n",
       "      <td>0</td>\n",
       "      <td>1</td>\n",
       "      <td>0</td>\n",
       "      <td>0</td>\n",
       "      <td>1</td>\n",
       "      <td>0</td>\n",
       "      <td>1</td>\n",
       "      <td>0</td>\n",
       "      <td>0</td>\n",
       "    </tr>\n",
       "  </tbody>\n",
       "</table>\n",
       "<p>5 rows × 79 columns</p>\n",
       "</div>"
      ],
      "text/plain": [
       "   months_as_customer  age  policy_deductable  policy_annual_premium  \\\n",
       "0                 328   48               1000                1406.91   \n",
       "1                 228   42               2000                1197.22   \n",
       "2                 134   29               2000                1413.14   \n",
       "3                 256   41               2000                1415.74   \n",
       "4                 228   44               1000                1583.91   \n",
       "\n",
       "   umbrella_limit  capital-gains  capital-loss  incident_hour_of_the_day  \\\n",
       "0               0          53300             0                         5   \n",
       "1         5000000              0             0                         8   \n",
       "2         5000000          35100             0                         7   \n",
       "3         6000000          48900        -62400                         5   \n",
       "4         6000000          66000        -46000                        20   \n",
       "\n",
       "   number_of_vehicles_involved  bodily_injuries  ...  \\\n",
       "0                            1                1  ...   \n",
       "1                            1                0  ...   \n",
       "2                            3                2  ...   \n",
       "3                            1                1  ...   \n",
       "4                            1                0  ...   \n",
       "\n",
       "   incident_severity_Trivial Damage  authorities_contacted_Fire  \\\n",
       "0                                 0                           0   \n",
       "1                                 0                           0   \n",
       "2                                 0                           0   \n",
       "3                                 0                           0   \n",
       "4                                 0                           0   \n",
       "\n",
       "   authorities_contacted_None  authorities_contacted_Other  \\\n",
       "0                           0                            0   \n",
       "1                           0                            0   \n",
       "2                           0                            0   \n",
       "3                           0                            0   \n",
       "4                           1                            0   \n",
       "\n",
       "   authorities_contacted_Police  property_damage_NO  property_damage_YES  \\\n",
       "0                             1                   0                    1   \n",
       "1                             1                   0                    0   \n",
       "2                             1                   1                    0   \n",
       "3                             1                   0                    0   \n",
       "4                             0                   1                    0   \n",
       "\n",
       "   police_report_available_NO  police_report_available_YES  fraud_reported_Y  \n",
       "0                           0                            1                 1  \n",
       "1                           0                            0                 1  \n",
       "2                           1                            0                 0  \n",
       "3                           1                            0                 1  \n",
       "4                           1                            0                 0  \n",
       "\n",
       "[5 rows x 79 columns]"
      ]
     },
     "execution_count": 21,
     "metadata": {},
     "output_type": "execute_result"
    }
   ],
   "source": [
    "df.head()"
   ]
  },
  {
   "cell_type": "code",
   "execution_count": 22,
   "id": "27e6effa-e838-4da1-80e5-23116412e0cb",
   "metadata": {},
   "outputs": [
    {
     "data": {
      "image/png": "[encoded data removed]",
      "text/plain": [
       "<Figure size 432x288 with 1 Axes>"
      ]
     },
     "metadata": {
      "needs_background": "light"
     },
     "output_type": "display_data"
    }
   ],
   "source": [
    "_=sns.stripplot(x='age',data=df)"
   ]
  },
  {
   "cell_type": "code",
   "execution_count": 23,
   "id": "3f6b4bc0-fc32-47bb-9940-8715a1c5d980",
   "metadata": {},
   "outputs": [
    {
     "data": {
      "text/plain": [
       "array([48, 42, 29, 41, 44, 39, 34, 37, 33, 61, 23, 38, 58, 26, 31, 62, 55,\n",
       "       40, 35, 43, 45, 25, 30, 28, 49, 54, 47, 59, 27, 56, 32, 36, 64, 60,\n",
       "       51, 46, 50, 57, 53, 24, 52, 19, 21, 63, 20, 22], dtype=int64)"
      ]
     },
     "execution_count": 23,
     "metadata": {},
     "output_type": "execute_result"
    }
   ],
   "source": [
    "df['age'].unique()"
   ]
  },
  {
   "cell_type": "code",
   "execution_count": 24,
   "id": "31ddcc23-c4e7-4559-9a7c-ee6c187437e0",
   "metadata": {},
   "outputs": [],
   "source": [
    "# Spliting into X AND Y# "
   ]
  },
  {
   "cell_type": "code",
   "execution_count": 25,
   "id": "70dabb0d-c6d7-4433-b949-955d3fc352f3",
   "metadata": {},
   "outputs": [],
   "source": [
    "x = df.drop('fraud_reported_Y',axis=1)\n",
    "y = df['fraud_reported_Y']"
   ]
  },
  {
   "cell_type": "code",
   "execution_count": 26,
   "id": "d874a220-2c65-4bc1-83f3-26326e8cc7a9",
   "metadata": {},
   "outputs": [
    {
     "data": {
      "text/html": [
       "<div>\n",
       "<style scoped>\n",
       "    .dataframe tbody tr th:only-of-type {\n",
       "        vertical-align: middle;\n",
       "    }\n",
       "\n",
       "    .dataframe tbody tr th {\n",
       "        vertical-align: top;\n",
       "    }\n",
       "\n",
       "    .dataframe thead th {\n",
       "        text-align: right;\n",
       "    }\n",
       "</style>\n",
       "<table border=\"1\" class=\"dataframe\">\n",
       "  <thead>\n",
       "    <tr style=\"text-align: right;\">\n",
       "      <th></th>\n",
       "      <th>months_as_customer</th>\n",
       "      <th>age</th>\n",
       "      <th>policy_deductable</th>\n",
       "      <th>policy_annual_premium</th>\n",
       "      <th>umbrella_limit</th>\n",
       "      <th>capital-gains</th>\n",
       "      <th>capital-loss</th>\n",
       "      <th>incident_hour_of_the_day</th>\n",
       "      <th>number_of_vehicles_involved</th>\n",
       "      <th>bodily_injuries</th>\n",
       "      <th>...</th>\n",
       "      <th>incident_severity_Total Loss</th>\n",
       "      <th>incident_severity_Trivial Damage</th>\n",
       "      <th>authorities_contacted_Fire</th>\n",
       "      <th>authorities_contacted_None</th>\n",
       "      <th>authorities_contacted_Other</th>\n",
       "      <th>authorities_contacted_Police</th>\n",
       "      <th>property_damage_NO</th>\n",
       "      <th>property_damage_YES</th>\n",
       "      <th>police_report_available_NO</th>\n",
       "      <th>police_report_available_YES</th>\n",
       "    </tr>\n",
       "  </thead>\n",
       "  <tbody>\n",
       "    <tr>\n",
       "      <th>0</th>\n",
       "      <td>328</td>\n",
       "      <td>48</td>\n",
       "      <td>1000</td>\n",
       "      <td>1406.91</td>\n",
       "      <td>0</td>\n",
       "      <td>53300</td>\n",
       "      <td>0</td>\n",
       "      <td>5</td>\n",
       "      <td>1</td>\n",
       "      <td>1</td>\n",
       "      <td>...</td>\n",
       "      <td>0</td>\n",
       "      <td>0</td>\n",
       "      <td>0</td>\n",
       "      <td>0</td>\n",
       "      <td>0</td>\n",
       "      <td>1</td>\n",
       "      <td>0</td>\n",
       "      <td>1</td>\n",
       "      <td>0</td>\n",
       "      <td>1</td>\n",
       "    </tr>\n",
       "    <tr>\n",
       "      <th>1</th>\n",
       "      <td>228</td>\n",
       "      <td>42</td>\n",
       "      <td>2000</td>\n",
       "      <td>1197.22</td>\n",
       "      <td>5000000</td>\n",
       "      <td>0</td>\n",
       "      <td>0</td>\n",
       "      <td>8</td>\n",
       "      <td>1</td>\n",
       "      <td>0</td>\n",
       "      <td>...</td>\n",
       "      <td>0</td>\n",
       "      <td>0</td>\n",
       "      <td>0</td>\n",
       "      <td>0</td>\n",
       "      <td>0</td>\n",
       "      <td>1</td>\n",
       "      <td>0</td>\n",
       "      <td>0</td>\n",
       "      <td>0</td>\n",
       "      <td>0</td>\n",
       "    </tr>\n",
       "    <tr>\n",
       "      <th>2</th>\n",
       "      <td>134</td>\n",
       "      <td>29</td>\n",
       "      <td>2000</td>\n",
       "      <td>1413.14</td>\n",
       "      <td>5000000</td>\n",
       "      <td>35100</td>\n",
       "      <td>0</td>\n",
       "      <td>7</td>\n",
       "      <td>3</td>\n",
       "      <td>2</td>\n",
       "      <td>...</td>\n",
       "      <td>0</td>\n",
       "      <td>0</td>\n",
       "      <td>0</td>\n",
       "      <td>0</td>\n",
       "      <td>0</td>\n",
       "      <td>1</td>\n",
       "      <td>1</td>\n",
       "      <td>0</td>\n",
       "      <td>1</td>\n",
       "      <td>0</td>\n",
       "    </tr>\n",
       "    <tr>\n",
       "      <th>3</th>\n",
       "      <td>256</td>\n",
       "      <td>41</td>\n",
       "      <td>2000</td>\n",
       "      <td>1415.74</td>\n",
       "      <td>6000000</td>\n",
       "      <td>48900</td>\n",
       "      <td>-62400</td>\n",
       "      <td>5</td>\n",
       "      <td>1</td>\n",
       "      <td>1</td>\n",
       "      <td>...</td>\n",
       "      <td>0</td>\n",
       "      <td>0</td>\n",
       "      <td>0</td>\n",
       "      <td>0</td>\n",
       "      <td>0</td>\n",
       "      <td>1</td>\n",
       "      <td>0</td>\n",
       "      <td>0</td>\n",
       "      <td>1</td>\n",
       "      <td>0</td>\n",
       "    </tr>\n",
       "    <tr>\n",
       "      <th>4</th>\n",
       "      <td>228</td>\n",
       "      <td>44</td>\n",
       "      <td>1000</td>\n",
       "      <td>1583.91</td>\n",
       "      <td>6000000</td>\n",
       "      <td>66000</td>\n",
       "      <td>-46000</td>\n",
       "      <td>20</td>\n",
       "      <td>1</td>\n",
       "      <td>0</td>\n",
       "      <td>...</td>\n",
       "      <td>0</td>\n",
       "      <td>0</td>\n",
       "      <td>0</td>\n",
       "      <td>1</td>\n",
       "      <td>0</td>\n",
       "      <td>0</td>\n",
       "      <td>1</td>\n",
       "      <td>0</td>\n",
       "      <td>1</td>\n",
       "      <td>0</td>\n",
       "    </tr>\n",
       "    <tr>\n",
       "      <th>...</th>\n",
       "      <td>...</td>\n",
       "      <td>...</td>\n",
       "      <td>...</td>\n",
       "      <td>...</td>\n",
       "      <td>...</td>\n",
       "      <td>...</td>\n",
       "      <td>...</td>\n",
       "      <td>...</td>\n",
       "      <td>...</td>\n",
       "      <td>...</td>\n",
       "      <td>...</td>\n",
       "      <td>...</td>\n",
       "      <td>...</td>\n",
       "      <td>...</td>\n",
       "      <td>...</td>\n",
       "      <td>...</td>\n",
       "      <td>...</td>\n",
       "      <td>...</td>\n",
       "      <td>...</td>\n",
       "      <td>...</td>\n",
       "      <td>...</td>\n",
       "    </tr>\n",
       "    <tr>\n",
       "      <th>995</th>\n",
       "      <td>3</td>\n",
       "      <td>38</td>\n",
       "      <td>1000</td>\n",
       "      <td>1310.80</td>\n",
       "      <td>0</td>\n",
       "      <td>0</td>\n",
       "      <td>0</td>\n",
       "      <td>20</td>\n",
       "      <td>1</td>\n",
       "      <td>0</td>\n",
       "      <td>...</td>\n",
       "      <td>0</td>\n",
       "      <td>0</td>\n",
       "      <td>1</td>\n",
       "      <td>0</td>\n",
       "      <td>0</td>\n",
       "      <td>0</td>\n",
       "      <td>0</td>\n",
       "      <td>1</td>\n",
       "      <td>0</td>\n",
       "      <td>0</td>\n",
       "    </tr>\n",
       "    <tr>\n",
       "      <th>996</th>\n",
       "      <td>285</td>\n",
       "      <td>41</td>\n",
       "      <td>1000</td>\n",
       "      <td>1436.79</td>\n",
       "      <td>0</td>\n",
       "      <td>70900</td>\n",
       "      <td>0</td>\n",
       "      <td>23</td>\n",
       "      <td>1</td>\n",
       "      <td>2</td>\n",
       "      <td>...</td>\n",
       "      <td>0</td>\n",
       "      <td>0</td>\n",
       "      <td>1</td>\n",
       "      <td>0</td>\n",
       "      <td>0</td>\n",
       "      <td>0</td>\n",
       "      <td>0</td>\n",
       "      <td>1</td>\n",
       "      <td>0</td>\n",
       "      <td>0</td>\n",
       "    </tr>\n",
       "    <tr>\n",
       "      <th>997</th>\n",
       "      <td>130</td>\n",
       "      <td>34</td>\n",
       "      <td>500</td>\n",
       "      <td>1383.49</td>\n",
       "      <td>3000000</td>\n",
       "      <td>35100</td>\n",
       "      <td>0</td>\n",
       "      <td>4</td>\n",
       "      <td>3</td>\n",
       "      <td>2</td>\n",
       "      <td>...</td>\n",
       "      <td>0</td>\n",
       "      <td>0</td>\n",
       "      <td>0</td>\n",
       "      <td>0</td>\n",
       "      <td>0</td>\n",
       "      <td>1</td>\n",
       "      <td>0</td>\n",
       "      <td>0</td>\n",
       "      <td>0</td>\n",
       "      <td>1</td>\n",
       "    </tr>\n",
       "    <tr>\n",
       "      <th>998</th>\n",
       "      <td>458</td>\n",
       "      <td>62</td>\n",
       "      <td>2000</td>\n",
       "      <td>1356.92</td>\n",
       "      <td>5000000</td>\n",
       "      <td>0</td>\n",
       "      <td>0</td>\n",
       "      <td>2</td>\n",
       "      <td>1</td>\n",
       "      <td>0</td>\n",
       "      <td>...</td>\n",
       "      <td>0</td>\n",
       "      <td>0</td>\n",
       "      <td>0</td>\n",
       "      <td>0</td>\n",
       "      <td>1</td>\n",
       "      <td>0</td>\n",
       "      <td>0</td>\n",
       "      <td>0</td>\n",
       "      <td>0</td>\n",
       "      <td>1</td>\n",
       "    </tr>\n",
       "    <tr>\n",
       "      <th>999</th>\n",
       "      <td>456</td>\n",
       "      <td>60</td>\n",
       "      <td>1000</td>\n",
       "      <td>766.19</td>\n",
       "      <td>0</td>\n",
       "      <td>0</td>\n",
       "      <td>0</td>\n",
       "      <td>6</td>\n",
       "      <td>1</td>\n",
       "      <td>0</td>\n",
       "      <td>...</td>\n",
       "      <td>0</td>\n",
       "      <td>0</td>\n",
       "      <td>0</td>\n",
       "      <td>0</td>\n",
       "      <td>0</td>\n",
       "      <td>1</td>\n",
       "      <td>0</td>\n",
       "      <td>0</td>\n",
       "      <td>0</td>\n",
       "      <td>0</td>\n",
       "    </tr>\n",
       "  </tbody>\n",
       "</table>\n",
       "<p>1000 rows × 78 columns</p>\n",
       "</div>"
      ],
      "text/plain": [
       "     months_as_customer  age  policy_deductable  policy_annual_premium  \\\n",
       "0                   328   48               1000                1406.91   \n",
       "1                   228   42               2000                1197.22   \n",
       "2                   134   29               2000                1413.14   \n",
       "3                   256   41               2000                1415.74   \n",
       "4                   228   44               1000                1583.91   \n",
       "..                  ...  ...                ...                    ...   \n",
       "995                   3   38               1000                1310.80   \n",
       "996                 285   41               1000                1436.79   \n",
       "997                 130   34                500                1383.49   \n",
       "998                 458   62               2000                1356.92   \n",
       "999                 456   60               1000                 766.19   \n",
       "\n",
       "     umbrella_limit  capital-gains  capital-loss  incident_hour_of_the_day  \\\n",
       "0                 0          53300             0                         5   \n",
       "1           5000000              0             0                         8   \n",
       "2           5000000          35100             0                         7   \n",
       "3           6000000          48900        -62400                         5   \n",
       "4           6000000          66000        -46000                        20   \n",
       "..              ...            ...           ...                       ...   \n",
       "995               0              0             0                        20   \n",
       "996               0          70900             0                        23   \n",
       "997         3000000          35100             0                         4   \n",
       "998         5000000              0             0                         2   \n",
       "999               0              0             0                         6   \n",
       "\n",
       "     number_of_vehicles_involved  bodily_injuries  ...  \\\n",
       "0                              1                1  ...   \n",
       "1                              1                0  ...   \n",
       "2                              3                2  ...   \n",
       "3                              1                1  ...   \n",
       "4                              1                0  ...   \n",
       "..                           ...              ...  ...   \n",
       "995                            1                0  ...   \n",
       "996                            1                2  ...   \n",
       "997                            3                2  ...   \n",
       "998                            1                0  ...   \n",
       "999                            1                0  ...   \n",
       "\n",
       "     incident_severity_Total Loss  incident_severity_Trivial Damage  \\\n",
       "0                               0                                 0   \n",
       "1                               0                                 0   \n",
       "2                               0                                 0   \n",
       "3                               0                                 0   \n",
       "4                               0                                 0   \n",
       "..                            ...                               ...   \n",
       "995                             0                                 0   \n",
       "996                             0                                 0   \n",
       "997                             0                                 0   \n",
       "998                             0                                 0   \n",
       "999                             0                                 0   \n",
       "\n",
       "     authorities_contacted_Fire  authorities_contacted_None  \\\n",
       "0                             0                           0   \n",
       "1                             0                           0   \n",
       "2                             0                           0   \n",
       "3                             0                           0   \n",
       "4                             0                           1   \n",
       "..                          ...                         ...   \n",
       "995                           1                           0   \n",
       "996                           1                           0   \n",
       "997                           0                           0   \n",
       "998                           0                           0   \n",
       "999                           0                           0   \n",
       "\n",
       "     authorities_contacted_Other  authorities_contacted_Police  \\\n",
       "0                              0                             1   \n",
       "1                              0                             1   \n",
       "2                              0                             1   \n",
       "3                              0                             1   \n",
       "4                              0                             0   \n",
       "..                           ...                           ...   \n",
       "995                            0                             0   \n",
       "996                            0                             0   \n",
       "997                            0                             1   \n",
       "998                            1                             0   \n",
       "999                            0                             1   \n",
       "\n",
       "     property_damage_NO  property_damage_YES  police_report_available_NO  \\\n",
       "0                     0                    1                           0   \n",
       "1                     0                    0                           0   \n",
       "2                     1                    0                           1   \n",
       "3                     0                    0                           1   \n",
       "4                     1                    0                           1   \n",
       "..                  ...                  ...                         ...   \n",
       "995                   0                    1                           0   \n",
       "996                   0                    1                           0   \n",
       "997                   0                    0                           0   \n",
       "998                   0                    0                           0   \n",
       "999                   0                    0                           0   \n",
       "\n",
       "     police_report_available_YES  \n",
       "0                              1  \n",
       "1                              0  \n",
       "2                              0  \n",
       "3                              0  \n",
       "4                              0  \n",
       "..                           ...  \n",
       "995                            0  \n",
       "996                            0  \n",
       "997                            1  \n",
       "998                            1  \n",
       "999                            0  \n",
       "\n",
       "[1000 rows x 78 columns]"
      ]
     },
     "execution_count": 26,
     "metadata": {},
     "output_type": "execute_result"
    }
   ],
   "source": [
    "x"
   ]
  },
  {
   "cell_type": "code",
   "execution_count": 27,
   "id": "ea092667-760b-4b04-ad72-ea863cba64c9",
   "metadata": {},
   "outputs": [
    {
     "data": {
      "text/plain": [
       "0      1\n",
       "1      1\n",
       "2      0\n",
       "3      1\n",
       "4      0\n",
       "      ..\n",
       "995    0\n",
       "996    0\n",
       "997    0\n",
       "998    0\n",
       "999    0\n",
       "Name: fraud_reported_Y, Length: 1000, dtype: uint8"
      ]
     },
     "execution_count": 27,
     "metadata": {},
     "output_type": "execute_result"
    }
   ],
   "source": [
    "y"
   ]
  },
  {
   "cell_type": "code",
   "execution_count": 28,
   "id": "adafc793-286c-496a-aa36-da3c0cf77c6b",
   "metadata": {},
   "outputs": [],
   "source": [
    "# Train_test_split"
   ]
  },
  {
   "cell_type": "code",
   "execution_count": 29,
   "id": "ac7d9e41-7213-46a0-bff6-36ac424ee68e",
   "metadata": {},
   "outputs": [],
   "source": [
    "from sklearn.model_selection import train_test_split\n",
    "x_train, x_test, y_train, y_test = train_test_split(x,y,test_size=0.2, random_state=42)"
   ]
  },
  {
   "cell_type": "code",
   "execution_count": 30,
   "id": "ff518cf5-3c47-479c-b0a1-b9e2cfaccef6",
   "metadata": {},
   "outputs": [],
   "source": [
    "# Feature Scalling"
   ]
  },
  {
   "cell_type": "code",
   "execution_count": 31,
   "id": "be8dd756-e468-489f-8f78-7f44c972057c",
   "metadata": {},
   "outputs": [],
   "source": [
    "from sklearn.preprocessing import MinMaxScaler\n",
    "scaler = MinMaxScaler()\n",
    "x_train = scaler.fit_transform(x_train)\n",
    "x_train = scaler.transform(x_train)"
   ]
  },
  {
   "cell_type": "code",
   "execution_count": 32,
   "id": "78c9bcae-acb4-42b3-b5b6-a91a7a39be50",
   "metadata": {},
   "outputs": [],
   "source": [
    "# Creating Artifical Neural Network"
   ]
  },
  {
   "cell_type": "code",
   "execution_count": 33,
   "id": "d6440e69-d231-4e9a-8323-920b078cc410",
   "metadata": {},
   "outputs": [],
   "source": [
    "# Importing Libraries\n",
    "import keras\n",
    "from keras.models import Sequential\n",
    "from keras.layers import Dense"
   ]
  },
  {
   "cell_type": "code",
   "execution_count": 34,
   "id": "6e54da42-49eb-4954-8606-d2d48e15738a",
   "metadata": {},
   "outputs": [
    {
     "data": {
      "text/plain": [
       "(800, 78)"
      ]
     },
     "execution_count": 34,
     "metadata": {},
     "output_type": "execute_result"
    }
   ],
   "source": [
    "x_train.shape"
   ]
  },
  {
   "cell_type": "code",
   "execution_count": 35,
   "id": "4b270cac-0ba6-45ad-9d55-6f8618fe91cb",
   "metadata": {},
   "outputs": [],
   "source": [
    "# Initializing the ANN\n",
    "ann_clf = Sequential()"
   ]
  },
  {
   "cell_type": "code",
   "execution_count": 36,
   "id": "256e9670-30e4-4298-a269-e27dc40443ca",
   "metadata": {},
   "outputs": [],
   "source": [
    "#Adding input layer and first hidden layer\n",
    "ann_clf.add(Dense(activation = 'relu', input_dim = 78, units = 11, kernel_initializer='uniform'))"
   ]
  },
  {
   "cell_type": "code",
   "execution_count": 37,
   "id": "1fc4ff3e-134e-4081-81ea-17cb75d5ee50",
   "metadata": {},
   "outputs": [],
   "source": [
    "# Adding Second Hidden Layer\n",
    "ann_clf.add(Dense(activation ='relu', units = 11, kernel_initializer = 'uniform'))"
   ]
  },
  {
   "cell_type": "code",
   "execution_count": 38,
   "id": "f3ee7456-e14c-4525-8b22-2d489e325860",
   "metadata": {},
   "outputs": [],
   "source": [
    "# Adding Output Layer\n",
    "ann_clf.add(Dense(activation = 'sigmoid',units = 1, kernel_initializer = 'uniform'))"
   ]
  },
  {
   "cell_type": "code",
   "execution_count": 39,
   "id": "bae14f67-c539-46a0-9dff-ea01f1c3bde6",
   "metadata": {},
   "outputs": [],
   "source": [
    "# Model Compilation\n",
    "ann_clf.compile(optimizer = 'adam', loss = 'binary_crossentropy', metrics = ['accuracy'])"
   ]
  },
  {
   "cell_type": "code",
   "execution_count": 40,
   "id": "9a7aa918-1156-4ac8-a174-ba7c0f5faa00",
   "metadata": {},
   "outputs": [],
   "source": [
    "# Model Summary"
   ]
  },
  {
   "cell_type": "code",
   "execution_count": 41,
   "id": "dbaac1d7-3c0b-4d7c-a979-0a01ddc882b9",
   "metadata": {},
   "outputs": [
    {
     "name": "stdout",
     "output_type": "stream",
     "text": [
      "Model: \"sequential\"\n",
      "_________________________________________________________________\n",
      " Layer (type)                Output Shape              Param #   \n",
      "=================================================================\n",
      " dense (Dense)               (None, 11)                869       \n",
      "                                                                 \n",
      " dense_1 (Dense)             (None, 11)                132       \n",
      "                                                                 \n",
      " dense_2 (Dense)             (None, 1)                 12        \n",
      "                                                                 \n",
      "=================================================================\n",
      "Total params: 1,013\n",
      "Trainable params: 1,013\n",
      "Non-trainable params: 0\n",
      "_________________________________________________________________\n"
     ]
    }
   ],
   "source": [
    "ann_clf.summary()"
   ]
  },
  {
   "cell_type": "code",
   "execution_count": 42,
   "id": "e7f5c58f-2e5c-4d5f-a916-6d87ae508253",
   "metadata": {},
   "outputs": [],
   "source": [
    "# Model Training"
   ]
  },
  {
   "cell_type": "code",
   "execution_count": 43,
   "id": "d09ff26b-9267-4a0a-8e52-91ec5a9f91df",
   "metadata": {
    "tags": []
   },
   "outputs": [
    {
     "name": "stdout",
     "output_type": "stream",
     "text": [
      "Epoch 1/50\n",
      "17/17 [==============================] - 1s 12ms/step - loss: 0.6902 - accuracy: 0.7556 - val_loss: 0.6862 - val_accuracy: 0.7576\n",
      "Epoch 2/50\n",
      "17/17 [==============================] - 0s 4ms/step - loss: 0.6796 - accuracy: 0.7612 - val_loss: 0.6693 - val_accuracy: 0.7576\n",
      "Epoch 3/50\n",
      "17/17 [==============================] - 0s 3ms/step - loss: 0.6521 - accuracy: 0.7612 - val_loss: 0.6303 - val_accuracy: 0.7576\n",
      "Epoch 4/50\n",
      "17/17 [==============================] - 0s 4ms/step - loss: 0.6015 - accuracy: 0.7612 - val_loss: 0.5718 - val_accuracy: 0.7576\n",
      "Epoch 5/50\n",
      "17/17 [==============================] - 0s 3ms/step - loss: 0.5488 - accuracy: 0.7612 - val_loss: 0.5418 - val_accuracy: 0.7576\n",
      "Epoch 6/50\n",
      "17/17 [==============================] - 0s 4ms/step - loss: 0.5295 - accuracy: 0.7612 - val_loss: 0.5364 - val_accuracy: 0.7576\n",
      "Epoch 7/50\n",
      "17/17 [==============================] - 0s 4ms/step - loss: 0.5225 - accuracy: 0.7612 - val_loss: 0.5300 - val_accuracy: 0.7576\n",
      "Epoch 8/50\n",
      "17/17 [==============================] - 0s 3ms/step - loss: 0.5148 - accuracy: 0.7612 - val_loss: 0.5242 - val_accuracy: 0.7576\n",
      "Epoch 9/50\n",
      "17/17 [==============================] - 0s 3ms/step - loss: 0.5076 - accuracy: 0.7612 - val_loss: 0.5173 - val_accuracy: 0.7576\n",
      "Epoch 10/50\n",
      "17/17 [==============================] - 0s 3ms/step - loss: 0.4980 - accuracy: 0.7612 - val_loss: 0.5104 - val_accuracy: 0.7576\n",
      "Epoch 11/50\n",
      "17/17 [==============================] - 0s 4ms/step - loss: 0.4896 - accuracy: 0.7612 - val_loss: 0.5033 - val_accuracy: 0.7576\n",
      "Epoch 12/50\n",
      "17/17 [==============================] - 0s 4ms/step - loss: 0.4782 - accuracy: 0.7612 - val_loss: 0.4938 - val_accuracy: 0.7576\n",
      "Epoch 13/50\n",
      "17/17 [==============================] - 0s 3ms/step - loss: 0.4671 - accuracy: 0.7612 - val_loss: 0.4841 - val_accuracy: 0.7576\n",
      "Epoch 14/50\n",
      "17/17 [==============================] - 0s 4ms/step - loss: 0.4543 - accuracy: 0.7612 - val_loss: 0.4735 - val_accuracy: 0.7576\n",
      "Epoch 15/50\n",
      "17/17 [==============================] - 0s 3ms/step - loss: 0.4410 - accuracy: 0.7612 - val_loss: 0.4630 - val_accuracy: 0.7576\n",
      "Epoch 16/50\n",
      "17/17 [==============================] - 0s 4ms/step - loss: 0.4277 - accuracy: 0.7612 - val_loss: 0.4520 - val_accuracy: 0.7576\n",
      "Epoch 17/50\n",
      "17/17 [==============================] - 0s 4ms/step - loss: 0.4152 - accuracy: 0.7612 - val_loss: 0.4426 - val_accuracy: 0.7576\n",
      "Epoch 18/50\n",
      "17/17 [==============================] - 0s 3ms/step - loss: 0.4035 - accuracy: 0.7612 - val_loss: 0.4328 - val_accuracy: 0.7576\n",
      "Epoch 19/50\n",
      "17/17 [==============================] - 0s 4ms/step - loss: 0.3931 - accuracy: 0.7612 - val_loss: 0.4239 - val_accuracy: 0.7576\n",
      "Epoch 20/50\n",
      "17/17 [==============================] - 0s 5ms/step - loss: 0.3837 - accuracy: 0.7612 - val_loss: 0.4168 - val_accuracy: 0.7576\n",
      "Epoch 21/50\n",
      "17/17 [==============================] - 0s 5ms/step - loss: 0.3774 - accuracy: 0.7612 - val_loss: 0.4100 - val_accuracy: 0.7576\n",
      "Epoch 22/50\n",
      "17/17 [==============================] - 0s 4ms/step - loss: 0.3699 - accuracy: 0.7612 - val_loss: 0.4031 - val_accuracy: 0.7576\n",
      "Epoch 23/50\n",
      "17/17 [==============================] - 0s 4ms/step - loss: 0.3644 - accuracy: 0.7612 - val_loss: 0.3970 - val_accuracy: 0.7576\n",
      "Epoch 24/50\n",
      "17/17 [==============================] - 0s 7ms/step - loss: 0.3599 - accuracy: 0.7761 - val_loss: 0.3925 - val_accuracy: 0.7803\n",
      "Epoch 25/50\n",
      "17/17 [==============================] - 0s 4ms/step - loss: 0.3546 - accuracy: 0.8414 - val_loss: 0.3876 - val_accuracy: 0.7879\n",
      "Epoch 26/50\n",
      "17/17 [==============================] - 0s 3ms/step - loss: 0.3507 - accuracy: 0.8489 - val_loss: 0.3833 - val_accuracy: 0.7955\n",
      "Epoch 27/50\n",
      "17/17 [==============================] - 0s 4ms/step - loss: 0.3478 - accuracy: 0.8396 - val_loss: 0.3818 - val_accuracy: 0.7955\n",
      "Epoch 28/50\n",
      "17/17 [==============================] - 0s 3ms/step - loss: 0.3455 - accuracy: 0.8750 - val_loss: 0.3754 - val_accuracy: 0.8106\n",
      "Epoch 29/50\n",
      "17/17 [==============================] - 0s 3ms/step - loss: 0.3424 - accuracy: 0.8563 - val_loss: 0.3742 - val_accuracy: 0.8068\n",
      "Epoch 30/50\n",
      "17/17 [==============================] - 0s 4ms/step - loss: 0.3400 - accuracy: 0.8750 - val_loss: 0.3693 - val_accuracy: 0.8144\n",
      "Epoch 31/50\n",
      "17/17 [==============================] - 0s 3ms/step - loss: 0.3359 - accuracy: 0.8806 - val_loss: 0.3688 - val_accuracy: 0.8144\n",
      "Epoch 32/50\n",
      "17/17 [==============================] - 0s 3ms/step - loss: 0.3344 - accuracy: 0.8806 - val_loss: 0.3644 - val_accuracy: 0.8220\n",
      "Epoch 33/50\n",
      "17/17 [==============================] - 0s 4ms/step - loss: 0.3318 - accuracy: 0.8843 - val_loss: 0.3609 - val_accuracy: 0.8258\n",
      "Epoch 34/50\n",
      "17/17 [==============================] - 0s 4ms/step - loss: 0.3299 - accuracy: 0.8843 - val_loss: 0.3593 - val_accuracy: 0.8258\n",
      "Epoch 35/50\n",
      "17/17 [==============================] - 0s 3ms/step - loss: 0.3289 - accuracy: 0.8899 - val_loss: 0.3539 - val_accuracy: 0.8258\n",
      "Epoch 36/50\n",
      "17/17 [==============================] - 0s 4ms/step - loss: 0.3267 - accuracy: 0.8843 - val_loss: 0.3539 - val_accuracy: 0.8295\n",
      "Epoch 37/50\n",
      "17/17 [==============================] - 0s 3ms/step - loss: 0.3251 - accuracy: 0.8918 - val_loss: 0.3523 - val_accuracy: 0.8295\n",
      "Epoch 38/50\n",
      "17/17 [==============================] - 0s 4ms/step - loss: 0.3216 - accuracy: 0.8937 - val_loss: 0.3466 - val_accuracy: 0.8447\n",
      "Epoch 39/50\n",
      "17/17 [==============================] - 0s 4ms/step - loss: 0.3202 - accuracy: 0.8918 - val_loss: 0.3431 - val_accuracy: 0.8485\n",
      "Epoch 40/50\n",
      "17/17 [==============================] - 0s 4ms/step - loss: 0.3192 - accuracy: 0.8843 - val_loss: 0.3416 - val_accuracy: 0.8447\n",
      "Epoch 41/50\n",
      "17/17 [==============================] - 0s 3ms/step - loss: 0.3143 - accuracy: 0.8918 - val_loss: 0.3395 - val_accuracy: 0.8447\n",
      "Epoch 42/50\n",
      "17/17 [==============================] - 0s 4ms/step - loss: 0.3110 - accuracy: 0.8918 - val_loss: 0.3373 - val_accuracy: 0.8447\n",
      "Epoch 43/50\n",
      "17/17 [==============================] - 0s 3ms/step - loss: 0.3093 - accuracy: 0.8993 - val_loss: 0.3340 - val_accuracy: 0.8485\n",
      "Epoch 44/50\n",
      "17/17 [==============================] - 0s 3ms/step - loss: 0.3066 - accuracy: 0.8937 - val_loss: 0.3330 - val_accuracy: 0.8485\n",
      "Epoch 45/50\n",
      "17/17 [==============================] - 0s 3ms/step - loss: 0.3038 - accuracy: 0.9049 - val_loss: 0.3260 - val_accuracy: 0.8523\n",
      "Epoch 46/50\n",
      "17/17 [==============================] - 0s 3ms/step - loss: 0.3027 - accuracy: 0.8993 - val_loss: 0.3271 - val_accuracy: 0.8523\n",
      "Epoch 47/50\n",
      "17/17 [==============================] - 0s 3ms/step - loss: 0.2990 - accuracy: 0.9049 - val_loss: 0.3239 - val_accuracy: 0.8561\n",
      "Epoch 48/50\n",
      "17/17 [==============================] - 0s 4ms/step - loss: 0.2966 - accuracy: 0.9011 - val_loss: 0.3225 - val_accuracy: 0.8561\n",
      "Epoch 49/50\n",
      "17/17 [==============================] - 0s 4ms/step - loss: 0.2949 - accuracy: 0.9011 - val_loss: 0.3193 - val_accuracy: 0.8598\n",
      "Epoch 50/50\n",
      "17/17 [==============================] - 0s 4ms/step - loss: 0.2927 - accuracy: 0.9049 - val_loss: 0.3207 - val_accuracy: 0.8598\n"
     ]
    },
    {
     "data": {
      "text/plain": [
       "<keras.callbacks.History at 0x1c5f8b41fd0>"
      ]
     },
     "execution_count": 43,
     "metadata": {},
     "output_type": "execute_result"
    }
   ],
   "source": [
    "ann_clf.fit(x_train, y_train, validation_split = 0.33, batch_size = 32,epochs = 50)"
   ]
  },
  {
   "cell_type": "code",
   "execution_count": 44,
   "id": "3c343f99-10e7-4e7c-94d0-a1f8dfc41f06",
   "metadata": {},
   "outputs": [
    {
     "name": "stdout",
     "output_type": "stream",
     "text": [
      "7/7 [==============================] - 0s 1ms/step\n"
     ]
    }
   ],
   "source": [
    "# Predicting the test result\n",
    "y_pred = ann_clf.predict(x_test)\n",
    "y_pred\n",
    "y_pred = (y_pred>0.5)"
   ]
  },
  {
   "cell_type": "code",
   "execution_count": 45,
   "id": "304444eb-0f4f-4815-b538-0b81de71387d",
   "metadata": {},
   "outputs": [],
   "source": [
    "# Accuracy and Confusion Matrix"
   ]
  },
  {
   "cell_type": "code",
   "execution_count": 46,
   "id": "efd55f68-b73d-40bf-85a3-d91eff9e35d9",
   "metadata": {},
   "outputs": [],
   "source": [
    "from sklearn.metrics import accuracy_score, confusion_matrix"
   ]
  },
  {
   "cell_type": "code",
   "execution_count": 47,
   "id": "e0608774-d8bd-4e76-a478-941b969ec1f0",
   "metadata": {},
   "outputs": [],
   "source": [
    "acc = accuracy_score(y_test,y_pred)"
   ]
  },
  {
   "cell_type": "code",
   "execution_count": 48,
   "id": "2380a34e-c211-475b-bfe1-f0170e60570c",
   "metadata": {},
   "outputs": [
    {
     "data": {
      "text/plain": [
       "0.725"
      ]
     },
     "execution_count": 48,
     "metadata": {},
     "output_type": "execute_result"
    }
   ],
   "source": [
    "acc"
   ]
  },
  {
   "cell_type": "code",
   "execution_count": 49,
   "id": "d3e407f4-7f94-49d0-976a-e3c1aa3d0b39",
   "metadata": {},
   "outputs": [],
   "source": [
    "# Confusion Matrix"
   ]
  },
  {
   "cell_type": "code",
   "execution_count": 50,
   "id": "c669fbd7-dc5f-4566-9dd4-0ff93e879d13",
   "metadata": {},
   "outputs": [
    {
     "data": {
      "text/plain": [
       "array([[145,   0],\n",
       "       [ 55,   0]], dtype=int64)"
      ]
     },
     "execution_count": 50,
     "metadata": {},
     "output_type": "execute_result"
    }
   ],
   "source": [
    "cm = confusion_matrix(y_test,y_pred)\n",
    "cm"
   ]
  },
  {
   "cell_type": "code",
   "execution_count": null,
   "id": "f7460643-39af-4c87-9f57-d49d8a91678e",
   "metadata": {},
   "outputs": [],
   "source": []
  }
 ],
 "metadata": {
  "kernelspec": {
   "display_name": "Python 3 (ipykernel)",
   "language": "python",
   "name": "python3"
  },
  "language_info": {
   "codemirror_mode": {
    "name": "ipython",
    "version": 3
   },
   "file_extension": ".py",
   "mimetype": "text/x-python",
   "name": "python",
   "nbconvert_exporter": "python",
   "pygments_lexer": "ipython3",
   "version": "3.9.12"
  }
 },
 "nbformat": 4,
 "nbformat_minor": 5
}
